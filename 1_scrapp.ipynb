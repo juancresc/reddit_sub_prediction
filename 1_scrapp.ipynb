{
 "cells": [
  {
   "cell_type": "code",
   "execution_count": 9,
   "metadata": {},
   "outputs": [],
   "source": [
    "from selenium import webdriver\n",
    "from selenium.webdriver.common.keys import Keys\n",
    "from selenium.webdriver.support.ui import WebDriverWait\n",
    "import pandas as pd\n",
    "import random\n",
    "import re\n",
    "import os\n",
    "import time\n",
    "from selenium.webdriver.chrome.options import Options\n",
    "import csv"
   ]
  },
  {
   "cell_type": "markdown",
   "metadata": {},
   "source": [
    "### Tutorials I've used\n",
    "- https://towardsdatascience.com/web-scraping-using-selenium-and-beautifulsoup-99195cd70a58\n",
    "- https://www.techbeamers.com/locate-elements-selenium-python/#locate-element-by-id"
   ]
  },
  {
   "cell_type": "markdown",
   "metadata": {},
   "source": [
    "## Set up selenium and chrome"
   ]
  },
  {
   "cell_type": "code",
   "execution_count": 10,
   "metadata": {},
   "outputs": [
    {
     "name": "stderr",
     "output_type": "stream",
     "text": [
      "/Users/juan/Documents/manu/dev/reddit-ml/venv/lib/python3.7/site-packages/ipykernel_launcher.py:8: DeprecationWarning: use options instead of chrome_options\n",
      "  \n"
     ]
    }
   ],
   "source": [
    "#start selenium driver\n",
    "chrome_options = Options()\n",
    "#disable notifications since it blocks scrolling\n",
    "prefs = {\"profile.default_content_setting_values.notifications\" : 2}\n",
    "chrome_options.add_experimental_option(\"prefs\",prefs)\n",
    "#need headless in order to make scrolling work\n",
    "chrome_options.add_argument(\"--headless\")\n",
    "driver = webdriver.Chrome(chrome_options=chrome_options)\n",
    "driver.implicitly_wait(10)"
   ]
  },
  {
   "cell_type": "markdown",
   "metadata": {},
   "source": [
    "## Scrap reddit subs\n",
    "I've chosen mostly text-based subs. \n",
    "For example in science, text are more descriptive and the content is mostly a link or a video, so we save the title instead of the content based on length"
   ]
  },
  {
   "cell_type": "code",
   "execution_count": 7,
   "metadata": {},
   "outputs": [],
   "source": [
    "subs = ['Vscode','relationships','Entrepreneur','tipofmytongue','science','CasualConversation',]\n",
    "random.shuffle(subs)"
   ]
  },
  {
   "cell_type": "code",
   "execution_count": 11,
   "metadata": {
    "scrolled": true
   },
   "outputs": [
    {
     "name": "stdout",
     "output_type": "stream",
     "text": [
      "scrapping https://www.reddit.com/r/Vscode\n",
      "links 51\n",
      "accessing https://www.reddit.com/r/vscode/comments/cr80v7/how_to_enable_commitpullpush_etc_for_collaborator/\n",
      "accessing https://www.reddit.com/r/vscode/comments/cq97hy/vscode2077theme_cyberpunk_2077/\n",
      "accessing https://www.reddit.com/r/vscode/comments/crwn30/performance_issues_when_files_start_to_grow_in/\n",
      "accessing https://www.reddit.com/r/vscode/comments/crsxdg/how_to_modify_the_debug_program_to_add_linker/\n",
      "accessing https://www.reddit.com/r/vscode/comments/cqxewh/exclude_some_source_files_based_on_c/\n",
      "accessing https://www.reddit.com/r/vscode/comments/csl31f/how_to_revert_to_a_previous_version_of_file_with/\n",
      "accessing https://www.reddit.com/r/vscode/comments/crbgy2/possible_glitch_with_vim_plugin_and_key_remappings/\n",
      "accessing https://www.reddit.com/r/vscode/comments/cqqmad/format_as_type_just_like_visual_studio_or_intellij/\n",
      "accessing https://www.reddit.com/r/vscode/comments/cqoiy5/node_debugger_variable_sections_always/\n",
      "accessing https://www.reddit.com/r/vscode/comments/cr410s/msvcode_powershell_execution_problem/\n",
      "accessing https://www.reddit.com/r/vscode/comments/cpvm0t/auto_complete_for_laravel_collections/\n",
      "accessing https://www.reddit.com/r/vscode/comments/crs5o3/color_scheme_similar_to_vims_peaksea/\n",
      "accessing https://www.reddit.com/r/vscode/comments/crrpkv/current_state_of_cmake_workflow_for_vs_code/\n",
      "accessing https://www.reddit.com/r/vscode/comments/cqqu1e/beginner_cannot_create_virtual_environment_in/\n",
      "accessing https://www.reddit.com/r/vscode/comments/cq50r5/unexpected_eof_while_parsing_error_on_python/\n",
      "accessing https://www.reddit.com/r/vscode/comments/cs8osc/green_play_button_in_vs_code/\n",
      "accessing https://www.reddit.com/r/vscode/comments/cs8rlk/cant_install_or_update_any_extensions/\n",
      "accessing https://www.reddit.com/r/vscode/comments/cr7bgz/hello_quick_question_how_do_i_hide_this_thing_ive/\n",
      "accessing https://www.reddit.com/r/vscode/comments/cqolkc/vs_code_python_pylint_issues/\n",
      "accessing https://www.reddit.com/r/vscode/comments/cs79bn/cannot_get_python_to_run_in_vs_code/\n",
      "accessing https://www.reddit.com/r/vscode/comments/cs0p0j/managing_vs_code_extensions/\n",
      "accessing https://www.reddit.com/r/vscode/comments/cqbdkb/vscode_auto_activates_a_python_3_virtual_env_that/\n",
      "accessing https://www.reddit.com/r/vscode/comments/crm6xe/symbols_and_javascript_inline_in_a_html_file/\n",
      "accessing https://www.reddit.com/r/vscode/comments/cs3fzd/where_do_i_find_a_color_code_listing_for_a/\n",
      "accessing https://www.reddit.com/r/vscode/comments/cqp5zb/raij%C5%AB_new_dark_variant_also_no_italics_versions/\n",
      "accessing https://www.reddit.com/r/vscode/comments/cqktlp/how_to_fix_file_permission_errors_when_debugging/\n",
      "accessing https://www.reddit.com/r/vscode/comments/cqgbp5/is_there_any_way_to_have_kinda_different/\n",
      "accessing https://www.reddit.com/r/vscode/comments/crk8hw/list_your_last_commits_right_into_source_control/\n",
      "accessing https://www.reddit.com/r/vscode/comments/csmgdc/how_do_i_disable_autoindent_or_autotab/\n",
      "accessing https://www.reddit.com/r/vscode/comments/cs23nh/live_server_not_autoupdating_in_chrome/\n",
      "accessing https://www.reddit.com/r/vscode/comments/cs965s/getting_syntax_errors_when_using_new_javascript/\n",
      "accessing https://www.reddit.com/r/vscode/comments/csjc5n/issues_with_compiling_c_code_in_vscode/\n",
      "accessing https://www.reddit.com/r/vscode/comments/cq52j9/is_there_a_shortcutextension_for_vs_code_that/\n",
      "accessing https://www.reddit.com/r/vscode/comments/crz925/can_anybody_point_out_why_my_compiler_still_shows/\n",
      "accessing https://www.reddit.com/r/vscode/comments/cq6yc1/can_not_add_index_to_parent_of_type_array/\n",
      "accessing https://www.reddit.com/r/vscode/comments/csklr8/jupyter_notebook_isnt_converted_properly_the/\n",
      "accessing https://www.reddit.com/r/vscode/comments/cscw6b/remote_development_is_this_valid_advice_from_my/\n",
      "accessing https://www.reddit.com/r/vscode/comments/csae4o/does_anyone_know_which_vscode_theme_is_the_one/\n",
      "accessing https://www.reddit.com/r/vscode/comments/cs5t8h/how_to_get_rid_of_annoying_popups/\n",
      "accessing https://www.reddit.com/r/vscode/comments/crly7l/whoever_can_make_a_customized_theme_for_vscode/\n",
      "accessing https://www.reddit.com/r/vscode/comments/cs9ske/issue_with_mspythonpython_extension_in_vs_code/\n",
      "accessing https://www.reddit.com/r/vscode/comments/cqpstp/vscode_intellisense_for_javascript_es2019/\n",
      "accessing https://www.reddit.com/r/vscode/comments/cqivtg/is_there_a_best_code_formatter_or_are_they_all/\n",
      "accessing https://www.reddit.com/r/vscode/comments/cq0kx5/the_cursor_jumps_to_the_start_of_the_phrase_while/\n",
      "accessing https://www.reddit.com/r/vscode/comments/cs3b5a/help_me_out_with_this_error_please/\n",
      "accessing https://www.reddit.com/r/vscode/comments/csai03/how_to_use_a_custom_css_for_the_interactive/\n",
      "accessing https://www.reddit.com/r/vscode/comments/cq1o0p/blueberry_banana_theme_with_a_cyberfunkish_feeling/\n",
      "accessing https://www.reddit.com/r/vscode/comments/cr3goo/how_to_get_intellisense_for_a_module_that_is/\n",
      "accessing https://www.reddit.com/r/vscode/comments/cqmr7e/starting_angular_application_the_right_way/\n",
      "accessing https://www.reddit.com/r/vscode/comments/crm0u8/how_to_easily_move_a_vscode_git_repo_to_github/\n",
      "accessing https://www.reddit.com/r/vscode/comments/a7rjfx/vs_code_wiki/\n",
      "scrapping https://www.reddit.com/r/relationships\n"
     ]
    },
    {
     "ename": "KeyboardInterrupt",
     "evalue": "",
     "output_type": "error",
     "traceback": [
      "\u001b[0;31m---------------------------------------------------------------------------\u001b[0m",
      "\u001b[0;31mKeyboardInterrupt\u001b[0m                         Traceback (most recent call last)",
      "\u001b[0;32m<ipython-input-11-020f1c1b3cb1>\u001b[0m in \u001b[0;36m<module>\u001b[0;34m\u001b[0m\n\u001b[1;32m     12\u001b[0m         \u001b[0mdriver\u001b[0m\u001b[0;34m.\u001b[0m\u001b[0mexecute_script\u001b[0m\u001b[0;34m(\u001b[0m\u001b[0;34m\"window.scrollTo(0, document.body.scrollHeight);\"\u001b[0m\u001b[0;34m)\u001b[0m\u001b[0;34m\u001b[0m\u001b[0;34m\u001b[0m\u001b[0m\n\u001b[1;32m     13\u001b[0m         \u001b[0;31m#wait for the page to load\u001b[0m\u001b[0;34m\u001b[0m\u001b[0;34m\u001b[0m\u001b[0;34m\u001b[0m\u001b[0m\n\u001b[0;32m---> 14\u001b[0;31m         \u001b[0mtime\u001b[0m\u001b[0;34m.\u001b[0m\u001b[0msleep\u001b[0m\u001b[0;34m(\u001b[0m\u001b[0;36m3\u001b[0m\u001b[0;34m)\u001b[0m\u001b[0;34m\u001b[0m\u001b[0;34m\u001b[0m\u001b[0m\n\u001b[0m\u001b[1;32m     15\u001b[0m     \u001b[0;31m#get all post links\u001b[0m\u001b[0;34m\u001b[0m\u001b[0;34m\u001b[0m\u001b[0;34m\u001b[0m\u001b[0m\n\u001b[1;32m     16\u001b[0m     \u001b[0mlinks\u001b[0m \u001b[0;34m=\u001b[0m \u001b[0mset\u001b[0m\u001b[0;34m(\u001b[0m\u001b[0;34m)\u001b[0m\u001b[0;34m\u001b[0m\u001b[0;34m\u001b[0m\u001b[0m\n",
      "\u001b[0;31mKeyboardInterrupt\u001b[0m: "
     ]
    }
   ],
   "source": [
    "#will write posts content in a file called posts.csv\n",
    "csv_file = open('posts.csv', 'w')\n",
    "csv_writer = csv.writer(csv_file)\n",
    "#iterate through all wanted subs\n",
    "for sub in subs:\n",
    "    url = \"https://www.reddit.com/r/%s\" % sub\n",
    "    print('scrapping',url)\n",
    "    #open the sub url\n",
    "    driver.get(url)\n",
    "    for i in range(3):\n",
    "        #scroll to bottom many times to load more posts\n",
    "        driver.execute_script(\"window.scrollTo(0, document.body.scrollHeight);\")\n",
    "        #wait for the page to load\n",
    "        time.sleep(3)\n",
    "    #get all post links\n",
    "    links = set()\n",
    "    #search all links\n",
    "    href_elements = driver.find_elements_by_tag_name('a')\n",
    "    for href_element in href_elements:\n",
    "        link =  href_element.get_attribute(\"href\")\n",
    "        #if comments is in link, means it is a post\n",
    "        if 'comments' in link:\n",
    "            links.add(link)\n",
    "    print('links',len(links))\n",
    "    #go through all links\n",
    "    total = 0\n",
    "    for link in links:\n",
    "        print('accessing',link)\n",
    "        driver.get(link)\n",
    "        #get post title\n",
    "        title_divs = driver.find_elements_by_tag_name('h1')\n",
    "        if len(title_divs) == 0: # is'nt this a real post?\n",
    "            continue\n",
    "        title_div = title_divs[0]\n",
    "        title = title_div.text\n",
    "        #get post content\n",
    "        content_divs = driver.find_elements_by_class_name('RichTextJSON-root')\n",
    "        if len(content_divs) == 0: # is'nt this a real post?\n",
    "            continue\n",
    "        content_div = content_divs[0]\n",
    "        content = content_div.text\n",
    "        #what to save? title or content (we keep the lengthiest)\n",
    "        #some post has a long descriptive text and no content (or video/image content)\n",
    "        #so we keep title instead of post\n",
    "        post_content = max([title, content], key=len)\n",
    "        #if for some reason title and content are empty, skip\n",
    "        if post_content.strip() == '':\n",
    "            continue\n",
    "        #write to csv\n",
    "        post_content = post_content.replace('\\n', ' ')\n",
    "        csv_writer.writerow([sub,post_content])\n",
    "        csv_file.flush()\n",
    "        total += 1\n",
    "        #I don't want to get banned\n",
    "        time.sleep(5)\n",
    "print('scrapped', total)\n"
   ]
  },
  {
   "cell_type": "code",
   "execution_count": null,
   "metadata": {},
   "outputs": [],
   "source": []
  },
  {
   "cell_type": "code",
   "execution_count": null,
   "metadata": {},
   "outputs": [],
   "source": []
  },
  {
   "cell_type": "code",
   "execution_count": null,
   "metadata": {},
   "outputs": [],
   "source": []
  },
  {
   "cell_type": "code",
   "execution_count": null,
   "metadata": {},
   "outputs": [],
   "source": []
  },
  {
   "cell_type": "code",
   "execution_count": null,
   "metadata": {},
   "outputs": [],
   "source": []
  },
  {
   "cell_type": "code",
   "execution_count": null,
   "metadata": {},
   "outputs": [],
   "source": []
  },
  {
   "cell_type": "code",
   "execution_count": null,
   "metadata": {},
   "outputs": [],
   "source": []
  }
 ],
 "metadata": {
  "kernelspec": {
   "display_name": "Python 3",
   "language": "python",
   "name": "python3"
  },
  "language_info": {
   "codemirror_mode": {
    "name": "ipython",
    "version": 3
   },
   "file_extension": ".py",
   "mimetype": "text/x-python",
   "name": "python",
   "nbconvert_exporter": "python",
   "pygments_lexer": "ipython3",
   "version": "3.7.4"
  }
 },
 "nbformat": 4,
 "nbformat_minor": 4
}
