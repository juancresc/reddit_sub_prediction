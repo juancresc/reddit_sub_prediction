{
 "cells": [
  {
   "cell_type": "code",
   "execution_count": 4,
   "metadata": {},
   "outputs": [],
   "source": [
    "from selenium import webdriver\n",
    "from selenium.webdriver.common.keys import Keys\n",
    "from selenium.webdriver.support.ui import WebDriverWait\n",
    "import pandas as pd\n",
    "import re\n",
    "import os\n",
    "import time\n",
    "from selenium.webdriver.chrome.options import Options\n",
    "import csv"
   ]
  },
  {
   "cell_type": "markdown",
   "metadata": {},
   "source": [
    "### Tutorials I've used\n",
    "- https://towardsdatascience.com/web-scraping-using-selenium-and-beautifulsoup-99195cd70a58\n",
    "- https://www.techbeamers.com/locate-elements-selenium-python/#locate-element-by-id"
   ]
  },
  {
   "cell_type": "markdown",
   "metadata": {},
   "source": [
    "## Set up selenium and chrome"
   ]
  },
  {
   "cell_type": "code",
   "execution_count": 5,
   "metadata": {},
   "outputs": [
    {
     "name": "stderr",
     "output_type": "stream",
     "text": [
      "/Users/juan/Documents/manu/dev/reddit-ml/venv/lib/python3.7/site-packages/ipykernel_launcher.py:8: DeprecationWarning: use options instead of chrome_options\n",
      "  \n"
     ]
    }
   ],
   "source": [
    "#start selenium driver\n",
    "chrome_options = Options()\n",
    "#disable notifications since it blocks scrolling\n",
    "prefs = {\"profile.default_content_setting_values.notifications\" : 2}\n",
    "chrome_options.add_experimental_option(\"prefs\",prefs)\n",
    "#need headless in order to make scrolling work\n",
    "chrome_options.add_argument(\"--headless\")\n",
    "driver = webdriver.Chrome(chrome_options=chrome_options)\n",
    "driver.implicitly_wait(10)"
   ]
  },
  {
   "cell_type": "markdown",
   "metadata": {},
   "source": [
    "## Scrap reddit subs\n",
    "I've chosen mostly text-based subs. \n",
    "For example in science, text are more descriptive and the content is mostly a link or a video, so we save the title instead of the content based on length"
   ]
  },
  {
   "cell_type": "code",
   "execution_count": 6,
   "metadata": {},
   "outputs": [],
   "source": [
    "subs = ['relationships','Entrepreneur','tipofmytongue','science','Vscode','CasualConversation',]"
   ]
  },
  {
   "cell_type": "code",
   "execution_count": 7,
   "metadata": {
    "scrolled": true
   },
   "outputs": [
    {
     "name": "stdout",
     "output_type": "stream",
     "text": [
      "scrapping https://www.reddit.com/r/relationships\n",
      "links 148\n",
      "accessing https://www.reddit.com/r/relationships/comments/cs4qn6/i_29f_cut_off_my_friends_for_the_sake_of_my/\n",
      "accessing https://www.reddit.com/r/relationships/comments/cs9p03/my27f_parents55m53f_are_forcing_me_to_have_a/\n",
      "accessing https://www.reddit.com/r/relationships/comments/cs1vw9/my_26m_girlfriend_22f_wants_my_aunt_55f_to/\n",
      "accessing https://www.reddit.com/r/relationships/comments/cs1tjq/my_24m_crush_23f_is_in_town_for_the_first_time_in/\n",
      "accessing https://www.reddit.com/r/relationships/comments/cs5zd9/im_in_love_with_my_ex_and_i_feel_like_i_am_a_huge/\n",
      "accessing https://www.reddit.com/r/relationships/comments/cs6c8e/my_sisters_31f_creepy_behaviour_is_making_me_26f/\n",
      "accessing https://www.reddit.com/r/relationships/comments/cs6rjn/ive_21f_seemed_to_lost_feelings_for_bf_20m_quickly/\n",
      "accessing https://www.reddit.com/r/relationships/comments/cs8h1t/i_23m_feel_like_my_relationship_with_my_20f_gf_is/\n",
      "accessing https://www.reddit.com/r/relationships/comments/cs2ir2/am_i_23f_enabling_an_unhealthy_relationship/\n",
      "accessing https://www.reddit.com/r/relationships/comments/cs8k40/my_ex_having_sex_with_a_guy_in_relationship_just/\n",
      "accessing https://www.reddit.com/r/relationships/comments/cs4u5c/not_sure_if_i_nb_26_am_too_impatient_w_my_gf_f_24/\n",
      "accessing https://www.reddit.com/r/relationships/comments/cs9wmf/accidentally_dated_my_friend_and_now_shes_not/\n",
      "accessing https://www.reddit.com/r/relationships/comments/csb1ej/my_23f_boyfriend_24m_wont_lose_weight_and_im_not/\n",
      "accessing https://www.reddit.com/r/relationships/comments/cs2yju/was_i_wrong_to_not_tell_my_bf_who_i_dated_in_the/\n",
      "accessing https://www.reddit.com/r/relationships/comments/csa927/i_26m_am_so_lonely_in_my_marriage_and_i_want_to/\n",
      "accessing https://www.reddit.com/r/relationships/comments/cs6jrf/apology_letter_to_an_ex/\n",
      "accessing https://www.reddit.com/r/relationships/comments/cs5p7v/cheating_moving_on_advice/\n",
      "accessing https://www.reddit.com/r/relationships/comments/crp1x6/my_28f_mom_54f_is_freaking_out_about_me_moving/\n",
      "accessing https://www.reddit.com/r/relationships/comments/cs7af4/my18m_ex18f_is_hiding_something_from_me_and_its/\n",
      "accessing https://www.reddit.com/r/relationships/comments/cs33qu/my26f_exs_mom65f_is_checking_my_instagram_stories/\n",
      "accessing https://www.reddit.com/r/relationships/comments/cs877e/my_18f_boyfriend_20m_of_2_years_accidentally/\n",
      "accessing https://www.reddit.com/r/relationships/comments/cs7ynu/i_18f_am_too_afraid_to_ask_my_mother_38f/\n",
      "accessing https://www.reddit.com/r/relationships/comments/cs9ti0/i_20f_saw_messages_on_my_boyfriends_phone_25m/\n",
      "accessing https://www.reddit.com/r/relationships/comments/cs8qcw/i_27f_am_engaged_to_love_of_my_life_30m_how_do/\n",
      "accessing https://www.reddit.com/r/relationships/comments/cr74wh/its_the_love_fest/\n",
      "accessing https://www.reddit.com/r/relationships/comments/cs840o/caught_so_m_27_sexting_ex_now_i_think_hes/\n",
      "accessing https://www.reddit.com/r/relationships/comments/crrnx1/me_31m_nonreligious_and_my_wife_27f_christian_are/\n"
     ]
    },
    {
     "ename": "WebDriverException",
     "evalue": "Message: disconnected: Unable to receive message from renderer\n  (Session info: headless chrome=76.0.3809.100)\n",
     "output_type": "error",
     "traceback": [
      "\u001b[0;31m---------------------------------------------------------------------------\u001b[0m",
      "\u001b[0;31mWebDriverException\u001b[0m                        Traceback (most recent call last)",
      "\u001b[0;32m<ipython-input-7-f63d97d5f6f2>\u001b[0m in \u001b[0;36m<module>\u001b[0;34m\u001b[0m\n\u001b[1;32m     27\u001b[0m     \u001b[0;32mfor\u001b[0m \u001b[0mlink\u001b[0m \u001b[0;32min\u001b[0m \u001b[0mlinks\u001b[0m\u001b[0;34m:\u001b[0m\u001b[0;34m\u001b[0m\u001b[0;34m\u001b[0m\u001b[0m\n\u001b[1;32m     28\u001b[0m         \u001b[0mprint\u001b[0m\u001b[0;34m(\u001b[0m\u001b[0;34m'accessing'\u001b[0m\u001b[0;34m,\u001b[0m\u001b[0mlink\u001b[0m\u001b[0;34m)\u001b[0m\u001b[0;34m\u001b[0m\u001b[0;34m\u001b[0m\u001b[0m\n\u001b[0;32m---> 29\u001b[0;31m         \u001b[0mdriver\u001b[0m\u001b[0;34m.\u001b[0m\u001b[0mget\u001b[0m\u001b[0;34m(\u001b[0m\u001b[0mlink\u001b[0m\u001b[0;34m)\u001b[0m\u001b[0;34m\u001b[0m\u001b[0;34m\u001b[0m\u001b[0m\n\u001b[0m\u001b[1;32m     30\u001b[0m         \u001b[0;31m#get post title\u001b[0m\u001b[0;34m\u001b[0m\u001b[0;34m\u001b[0m\u001b[0;34m\u001b[0m\u001b[0m\n\u001b[1;32m     31\u001b[0m         \u001b[0mtitle_divs\u001b[0m \u001b[0;34m=\u001b[0m \u001b[0mdriver\u001b[0m\u001b[0;34m.\u001b[0m\u001b[0mfind_elements_by_tag_name\u001b[0m\u001b[0;34m(\u001b[0m\u001b[0;34m'h1'\u001b[0m\u001b[0;34m)\u001b[0m\u001b[0;34m\u001b[0m\u001b[0;34m\u001b[0m\u001b[0m\n",
      "\u001b[0;32m~/Documents/manu/dev/reddit-ml/venv/lib/python3.7/site-packages/selenium/webdriver/remote/webdriver.py\u001b[0m in \u001b[0;36mget\u001b[0;34m(self, url)\u001b[0m\n\u001b[1;32m    331\u001b[0m         \u001b[0mLoads\u001b[0m \u001b[0ma\u001b[0m \u001b[0mweb\u001b[0m \u001b[0mpage\u001b[0m \u001b[0;32min\u001b[0m \u001b[0mthe\u001b[0m \u001b[0mcurrent\u001b[0m \u001b[0mbrowser\u001b[0m \u001b[0msession\u001b[0m\u001b[0;34m.\u001b[0m\u001b[0;34m\u001b[0m\u001b[0;34m\u001b[0m\u001b[0m\n\u001b[1;32m    332\u001b[0m         \"\"\"\n\u001b[0;32m--> 333\u001b[0;31m         \u001b[0mself\u001b[0m\u001b[0;34m.\u001b[0m\u001b[0mexecute\u001b[0m\u001b[0;34m(\u001b[0m\u001b[0mCommand\u001b[0m\u001b[0;34m.\u001b[0m\u001b[0mGET\u001b[0m\u001b[0;34m,\u001b[0m \u001b[0;34m{\u001b[0m\u001b[0;34m'url'\u001b[0m\u001b[0;34m:\u001b[0m \u001b[0murl\u001b[0m\u001b[0;34m}\u001b[0m\u001b[0;34m)\u001b[0m\u001b[0;34m\u001b[0m\u001b[0;34m\u001b[0m\u001b[0m\n\u001b[0m\u001b[1;32m    334\u001b[0m \u001b[0;34m\u001b[0m\u001b[0m\n\u001b[1;32m    335\u001b[0m     \u001b[0;34m@\u001b[0m\u001b[0mproperty\u001b[0m\u001b[0;34m\u001b[0m\u001b[0;34m\u001b[0m\u001b[0m\n",
      "\u001b[0;32m~/Documents/manu/dev/reddit-ml/venv/lib/python3.7/site-packages/selenium/webdriver/remote/webdriver.py\u001b[0m in \u001b[0;36mexecute\u001b[0;34m(self, driver_command, params)\u001b[0m\n\u001b[1;32m    319\u001b[0m         \u001b[0mresponse\u001b[0m \u001b[0;34m=\u001b[0m \u001b[0mself\u001b[0m\u001b[0;34m.\u001b[0m\u001b[0mcommand_executor\u001b[0m\u001b[0;34m.\u001b[0m\u001b[0mexecute\u001b[0m\u001b[0;34m(\u001b[0m\u001b[0mdriver_command\u001b[0m\u001b[0;34m,\u001b[0m \u001b[0mparams\u001b[0m\u001b[0;34m)\u001b[0m\u001b[0;34m\u001b[0m\u001b[0;34m\u001b[0m\u001b[0m\n\u001b[1;32m    320\u001b[0m         \u001b[0;32mif\u001b[0m \u001b[0mresponse\u001b[0m\u001b[0;34m:\u001b[0m\u001b[0;34m\u001b[0m\u001b[0;34m\u001b[0m\u001b[0m\n\u001b[0;32m--> 321\u001b[0;31m             \u001b[0mself\u001b[0m\u001b[0;34m.\u001b[0m\u001b[0merror_handler\u001b[0m\u001b[0;34m.\u001b[0m\u001b[0mcheck_response\u001b[0m\u001b[0;34m(\u001b[0m\u001b[0mresponse\u001b[0m\u001b[0;34m)\u001b[0m\u001b[0;34m\u001b[0m\u001b[0;34m\u001b[0m\u001b[0m\n\u001b[0m\u001b[1;32m    322\u001b[0m             response['value'] = self._unwrap_value(\n\u001b[1;32m    323\u001b[0m                 response.get('value', None))\n",
      "\u001b[0;32m~/Documents/manu/dev/reddit-ml/venv/lib/python3.7/site-packages/selenium/webdriver/remote/errorhandler.py\u001b[0m in \u001b[0;36mcheck_response\u001b[0;34m(self, response)\u001b[0m\n\u001b[1;32m    240\u001b[0m                 \u001b[0malert_text\u001b[0m \u001b[0;34m=\u001b[0m \u001b[0mvalue\u001b[0m\u001b[0;34m[\u001b[0m\u001b[0;34m'alert'\u001b[0m\u001b[0;34m]\u001b[0m\u001b[0;34m.\u001b[0m\u001b[0mget\u001b[0m\u001b[0;34m(\u001b[0m\u001b[0;34m'text'\u001b[0m\u001b[0;34m)\u001b[0m\u001b[0;34m\u001b[0m\u001b[0;34m\u001b[0m\u001b[0m\n\u001b[1;32m    241\u001b[0m             \u001b[0;32mraise\u001b[0m \u001b[0mexception_class\u001b[0m\u001b[0;34m(\u001b[0m\u001b[0mmessage\u001b[0m\u001b[0;34m,\u001b[0m \u001b[0mscreen\u001b[0m\u001b[0;34m,\u001b[0m \u001b[0mstacktrace\u001b[0m\u001b[0;34m,\u001b[0m \u001b[0malert_text\u001b[0m\u001b[0;34m)\u001b[0m\u001b[0;34m\u001b[0m\u001b[0;34m\u001b[0m\u001b[0m\n\u001b[0;32m--> 242\u001b[0;31m         \u001b[0;32mraise\u001b[0m \u001b[0mexception_class\u001b[0m\u001b[0;34m(\u001b[0m\u001b[0mmessage\u001b[0m\u001b[0;34m,\u001b[0m \u001b[0mscreen\u001b[0m\u001b[0;34m,\u001b[0m \u001b[0mstacktrace\u001b[0m\u001b[0;34m)\u001b[0m\u001b[0;34m\u001b[0m\u001b[0;34m\u001b[0m\u001b[0m\n\u001b[0m\u001b[1;32m    243\u001b[0m \u001b[0;34m\u001b[0m\u001b[0m\n\u001b[1;32m    244\u001b[0m     \u001b[0;32mdef\u001b[0m \u001b[0m_value_or_default\u001b[0m\u001b[0;34m(\u001b[0m\u001b[0mself\u001b[0m\u001b[0;34m,\u001b[0m \u001b[0mobj\u001b[0m\u001b[0;34m,\u001b[0m \u001b[0mkey\u001b[0m\u001b[0;34m,\u001b[0m \u001b[0mdefault\u001b[0m\u001b[0;34m)\u001b[0m\u001b[0;34m:\u001b[0m\u001b[0;34m\u001b[0m\u001b[0;34m\u001b[0m\u001b[0m\n",
      "\u001b[0;31mWebDriverException\u001b[0m: Message: disconnected: Unable to receive message from renderer\n  (Session info: headless chrome=76.0.3809.100)\n"
     ]
    }
   ],
   "source": [
    "#will write posts content in a file called posts.csv\n",
    "csv_file = open('posts.csv', 'w')\n",
    "csv_writer = csv.writer(csv_file)\n",
    "#iterate through all wanted subs\n",
    "for sub in subs:\n",
    "    url = \"https://www.reddit.com/r/%s\" % sub\n",
    "    print('scrapping',url)\n",
    "    #open the sub url\n",
    "    driver.get(url)\n",
    "    for i in range(10):\n",
    "        #scroll to bottom many times to load more posts\n",
    "        driver.execute_script(\"window.scrollTo(0, document.body.scrollHeight);\")\n",
    "        #wait for the page to load\n",
    "        time.sleep(3)\n",
    "    #get all post links\n",
    "    links = set()\n",
    "    #search all links\n",
    "    href_elements = driver.find_elements_by_tag_name('a')\n",
    "    for href_element in href_elements:\n",
    "        link =  href_element.get_attribute(\"href\")\n",
    "        #if comments is in link, means it is a post\n",
    "        if 'comments' in link:\n",
    "            links.add(link)\n",
    "    print('links',len(links))\n",
    "    #go through all links\n",
    "    total = 0\n",
    "    for link in links:\n",
    "        print('accessing',link)\n",
    "        driver.get(link)\n",
    "        #get post title\n",
    "        title_divs = driver.find_elements_by_tag_name('h1')\n",
    "        if len(title_divs) == 0: # is'nt this a real post?\n",
    "            continue\n",
    "        title_div = title_divs[0]\n",
    "        title = title_div.text\n",
    "        #get post content\n",
    "        content_divs = driver.find_elements_by_class_name('RichTextJSON-root')\n",
    "        if len(content_divs) == 0: # is'nt this a real post?\n",
    "            continue\n",
    "        content_div = content_divs[0]\n",
    "        content = content_div.text\n",
    "        #what to save? title or content (we keep the lengthiest)\n",
    "        #some post has a long descriptive text and no content (or video/image content)\n",
    "        #so we keep title instead of post\n",
    "        post_content = max([title, content], key=len)\n",
    "        #if for some reason title and content are empty, skip\n",
    "        if post_content.strip() == '':\n",
    "            continue\n",
    "        #write to csv\n",
    "        post_content = post_content.replace('\\n', ' ')\n",
    "        csv_writer.writerow([sub,post_content])\n",
    "        csv_file.flush()\n",
    "        total += 1\n",
    "        #I don't want to get banned\n",
    "        time.sleep(5)\n",
    "print('scrapped', total)\n"
   ]
  },
  {
   "cell_type": "code",
   "execution_count": null,
   "metadata": {},
   "outputs": [],
   "source": []
  },
  {
   "cell_type": "code",
   "execution_count": null,
   "metadata": {},
   "outputs": [],
   "source": []
  },
  {
   "cell_type": "code",
   "execution_count": null,
   "metadata": {},
   "outputs": [],
   "source": []
  },
  {
   "cell_type": "code",
   "execution_count": null,
   "metadata": {},
   "outputs": [],
   "source": []
  },
  {
   "cell_type": "code",
   "execution_count": null,
   "metadata": {},
   "outputs": [],
   "source": []
  },
  {
   "cell_type": "code",
   "execution_count": null,
   "metadata": {},
   "outputs": [],
   "source": []
  },
  {
   "cell_type": "code",
   "execution_count": null,
   "metadata": {},
   "outputs": [],
   "source": []
  }
 ],
 "metadata": {
  "kernelspec": {
   "display_name": "Python 3",
   "language": "python",
   "name": "python3"
  },
  "language_info": {
   "codemirror_mode": {
    "name": "ipython",
    "version": 3
   },
   "file_extension": ".py",
   "mimetype": "text/x-python",
   "name": "python",
   "nbconvert_exporter": "python",
   "pygments_lexer": "ipython3",
   "version": "3.7.4"
  }
 },
 "nbformat": 4,
 "nbformat_minor": 4
}
